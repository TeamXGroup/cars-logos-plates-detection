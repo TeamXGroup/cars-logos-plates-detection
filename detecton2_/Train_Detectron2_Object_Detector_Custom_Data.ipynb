{
  "nbformat": 4,
  "nbformat_minor": 0,
  "metadata": {
    "colab": {
      "provenance": []
    },
    "kernelspec": {
      "name": "python3",
      "display_name": "Python 3"
    },
    "language_info": {
      "name": "python"
    },
    "accelerator": "GPU",
    "gpuClass": "standard"
  },
  "cells": [
    {
      "cell_type": "markdown",
      "source": [
        "### Connect Google Drive"
      ],
      "metadata": {
        "id": "-GIYjVIA96Ne"
      }
    },
    {
      "cell_type": "code",
      "source": [
        "from google.colab import drive\n",
        "\n",
        "drive.mount('/content/gdrive')"
      ],
      "metadata": {
        "id": "-wxgALmBx6Rj"
      },
      "execution_count": null,
      "outputs": []
    },
    {
      "cell_type": "markdown",
      "source": [
        "### Install requirements"
      ],
      "metadata": {
        "id": "D9ZsFr6--Lxg"
      }
    },
    {
      "cell_type": "code",
      "execution_count": null,
      "metadata": {
        "id": "xWh477fIw_al"
      },
      "outputs": [],
      "source": [
        "!pip install torch==2.0.0\n",
        "!pip install torchvision==0.15.1\n",
        "!pip install opencv-python==4.6.0.66\n",
        "!pip install matplotlib==3.5.3\n",
        "!pip install git+https://github.com/facebookresearch/detectron2.git\n"
      ]
    },
    {
      "cell_type": "markdown",
      "source": [
        "### Change working directory"
      ],
      "metadata": {
        "id": "q1PMCpJK-QNH"
      }
    },
    {
      "cell_type": "code",
      "source": [
        "%cd /content/gdrive/MyDrive/ComputerVisionEngineer/TrainDetectron2ObjectDetector/"
      ],
      "metadata": {
        "id": "La68ZGbq0Qni"
      },
      "execution_count": null,
      "outputs": []
    },
    {
      "cell_type": "markdown",
      "source": [
        "### Train !"
      ],
      "metadata": {
        "id": "3chYfIWs-Sqa"
      }
    },
    {
      "cell_type": "code",
      "source": [
        "!python train.py --device gpu --learning-rate 0.00001 --iterations 6000"
      ],
      "metadata": {
        "id": "5xDV20jH0mzk"
      },
      "execution_count": null,
      "outputs": []
    }
  ]
}